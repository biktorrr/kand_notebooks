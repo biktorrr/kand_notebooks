{
 "cells": [
  {
   "cell_type": "markdown",
   "metadata": {},
   "source": [
    "# Knowledge and Data 2020: Practical Assignment 3 \n",
    "## RDF Data, RDFS knowledge and inferencing "
   ]
  },
  {
   "cell_type": "markdown",
   "metadata": {},
   "source": [
    "YOUR NAME:\n",
    "\n",
    "YOUR VUNetID: \n",
    "\n",
    "*(If you do not provide your name and VUNetID we will not accept your submission).* "
   ]
  },
  {
   "cell_type": "markdown",
   "metadata": {},
   "source": [
    "### Learning objectives\n",
    "\n",
    "At the end of this exercise you should be able to:\n",
    "\n",
    "1. Access local an external data via SPARQL both from within a python programming environment and stand-alone with a GUI, such as [YASGUI](https://yasgui.triply.cc/), and this way integrate data from different sources  \n",
    "2. Model your own first knowledge base, in this case an RDF Schema knowledge graph\n",
    "3. Implement inference rules "
   ]
  },
  {
   "cell_type": "markdown",
   "metadata": {},
   "source": [
    "Follow this Notebook step-by-step. \n",
    "\n",
    "Of course, you can do the exercises in any Programming Editor of your liking. \n",
    "But you do not have to. Feel free to simply write code in the Notebook. When \n",
    "everythink is filled in and works, safe the Notebook and submit it \n",
    "as a Jupyter Notebook, i.e. with an ipynb extension. Please use as name of the \n",
    "Notebook your studentID+Assignment3.ipynb.  \n",
    "\n",
    "Other than in courses dedicated to programming we will not evaluate the style\n",
    "of the programs. But we will test your programs on other data than we provide, \n",
    "and your program should give the correct answers to those test-data as well. "
   ]
  },
  {
   "cell_type": "markdown",
   "metadata": {},
   "source": [
    "Before you start, you need to:\n",
    "\n",
    "- **Install the *rdflib* Python package:** *pip install rdflib* (should already be installed from the previous assignment)\n",
    "- **Install the *SPARQLWrapper* Python package:** *pip install SPARQLWrapper*\n",
    "- **Install the free edition of the GraphDB Triplestore:** please follow this short [tutorial](https://github.com/raadjoe/knowledge-data-vu/blob/master/Tutorials/Preliminaries/preliminaries.md). \n",
    "\n",
    "Then, add the file example-from-slides.ttl to a newly created database, say called assignment-3. "
   ]
  },
  {
   "cell_type": "markdown",
   "metadata": {},
   "source": [
    "## Task 1: (3 points) Integrate Local and External Data"
   ]
  },
  {
   "cell_type": "markdown",
   "metadata": {},
   "source": [
    "You can integrate SPARQL queries into your Python code by using the *RDFLib* and *SPARQLWrapper* libraries. \n",
    "\n",
    "The following code accesses the DBPedia knowledge graph using its SPARQL endpoint, and returns the result of the SPARQL query requesting all the labels asserted to Amsterdam (test it!)  "
   ]
  },
  {
   "cell_type": "code",
   "execution_count": 18,
   "metadata": {},
   "outputs": [
    {
     "name": "stdout",
     "output_type": "stream",
     "text": [
      "Amsterdam\n",
      "أمستردام\n",
      "Amsterdam\n",
      "Ámsterdam\n",
      "Amsterdam\n",
      "Amsterdam\n",
      "アムステルダム\n",
      "Amsterdam\n",
      "Amsterdam\n",
      "Amesterdão\n",
      "Амстердам\n",
      "阿姆斯特丹\n"
     ]
    }
   ],
   "source": [
    "# This code only works if you are online\n",
    "\n",
    "from rdflib import Graph, RDF, Namespace, Literal, URIRef\n",
    "from SPARQLWrapper import SPARQLWrapper, JSON\n",
    "\n",
    "sparql = SPARQLWrapper(\"http://dbpedia.org/sparql\")\n",
    "sparql.setQuery(\"\"\"\n",
    "    PREFIX rdfs: <http://www.w3.org/2000/01/rdf-schema#>\n",
    "    SELECT ?cityName\n",
    "    WHERE { \n",
    "        <http://dbpedia.org/resource/Amsterdam> rdfs:label ?cityName \n",
    "    }\n",
    "\"\"\")\n",
    "sparql.setReturnFormat(JSON)\n",
    "results = sparql.query().convert()\n",
    "for result in results[\"results\"][\"bindings\"]:\n",
    "    print(result[\"cityName\"][\"value\"])  "
   ]
  },
  {
   "cell_type": "markdown",
   "metadata": {},
   "source": [
    "Your task is now the following:\n",
    "1. Write a SPARQL query that extracts all the cities from your local knowledge graph (constructed by loading the file example-from-slides.ttl) \n",
    "2. Find the number of inhabitants of these cities and the longitude and latitude information (if available) from DBPedia.\n",
    "3. Merge the triples from example-from-slides.ttl with the information extracted from DBpedia + Save all these triples into a new file 'extended-example.ttl' + Print all triples in Turtle Syntax.\n",
    "\n",
    "For your convenience, we already wrote the following functions that might be useful to complete this task. \n",
    "In addition, we have loaded and printed the 'example-from-slides.ttl' dataset."
   ]
  },
  {
   "cell_type": "code",
   "execution_count": 19,
   "metadata": {},
   "outputs": [
    {
     "name": "stdout",
     "output_type": "stream",
     "text": [
      "@prefix ex: <http://example.com/kad2020/> .\n",
      "@prefix rdfs: <http://www.w3.org/2000/01/rdf-schema#> .\n",
      "\n",
      "ex:Netherlands a ex:Country ;\n",
      "    ex:contains ex:Ijsselmeer ;\n",
      "    ex:containsCity ex:Rotterdam ;\n",
      "    ex:has_Capital ex:Amsterdam ;\n",
      "    ex:has_Name \"The Netherlands\" ;\n",
      "    ex:neighbours ex:Belgium .\n",
      "\n",
      "ex:hasCapital rdfs:range ex:Capital ;\n",
      "    rdfs:subPropertyOf ex:containsCity .\n",
      "\n",
      "ex:neighbours rdfs:subPropertyOf ex:closeBy .\n",
      "\n",
      "ex:Amsterdam a ex:Capital ;\n",
      "    ex:closeBy ex:Germany .\n",
      "\n",
      "ex:Belgium a ex:Country .\n",
      "\n",
      "ex:EuropeanCountry rdfs:subClassOf ex:Country .\n",
      "\n",
      "ex:Germany a ex:EuropeanCountry ;\n",
      "    ex:hasCapital ex:Berlin .\n",
      "\n",
      "ex:closeBy rdfs:domain ex:Location ;\n",
      "    rdfs:range ex:Location .\n",
      "\n",
      "ex:containsCity rdfs:domain ex:Country ;\n",
      "    rdfs:range ex:City ;\n",
      "    rdfs:subPropertyOf ex:contains .\n",
      "\n",
      "ex:Capital rdfs:subClassOf ex:City .\n",
      "\n",
      "ex:City rdfs:subClassOf ex:Location .\n",
      "\n",
      "ex:Country rdfs:subClassOf ex:Location .\n",
      "\n",
      "\n"
     ]
    }
   ],
   "source": [
    "from rdflib import Graph, RDF, Namespace, Literal, URIRef\n",
    "from SPARQLWrapper import SPARQLWrapper, JSON\n",
    "\n",
    "g = Graph()\n",
    "\n",
    "\n",
    "\n",
    "# Loads the data from a certain file given as input in Turtle syntax into the Graph g  \n",
    "# -------------------------\n",
    "def load(filename):\n",
    "    with open(filename, 'r') as f:\n",
    "        g.load(f, format='turtle')\n",
    "        \n",
    "\n",
    "# Prints a certain graph given as input in Turtle syntax\n",
    "# -------------------------\n",
    "def serialize(myGraph):\n",
    "     print(myGraph.serialize(format='turtle').decode(\"utf-8\"))\n",
    "        \n",
    "\n",
    "# Saves the Graph g in Turtle syntax to a certain file given as input\n",
    "# -------------------------\n",
    "def save(myGraph, filename):\n",
    "    with open(filename, 'w') as f:\n",
    "        myGraph.serialize(filename, format='turtle')\n",
    "        \n",
    "    \n",
    "# Changes the namespace of a certain URI given as input to a DBpedia URI \n",
    "# Example: transformToDBR(\"http://example.com/kad2020/Amsterdam\") returns \"http://dbpedia.org/resource/Amsterdam\"\n",
    "# -------------------------\n",
    "def transformToDBR(uri):\n",
    "    if isinstance(uri, Literal):\n",
    "        # changes the literal to uppercase so that the object with the same name refers to an object and not the string\n",
    "        return uri.upper()\n",
    "    components = g.namespace_manager.compute_qname(uri)\n",
    "    return \"http://dbpedia.org/resource/%s\"%(components[2])\n",
    "\n",
    "# -------------------------\n",
    "\n",
    "load('example-from-slides.ttl')\n",
    "serialize(g)\n",
    "\n",
    "\n",
    "# Don't forget to run this cell before continuing the task.\n"
   ]
  },
  {
   "cell_type": "markdown",
   "metadata": {},
   "source": [
    "### 1. Write a SPARQL query that finds all the cities in the dataset\n",
    "\n",
    "As there is no explicit class City, you will have to find those cities using implicit information that can be deduced from the domain and ranges of the relations (e.g. things in a hasCapital relation are capitals and a capital is a city, etc.).\n",
    "\n",
    "Save all the cities returned from the SPARQL query into the empty set \"cities\". "
   ]
  },
  {
   "cell_type": "code",
   "execution_count": 20,
   "metadata": {},
   "outputs": [
    {
     "name": "stdout",
     "output_type": "stream",
     "text": [
      "http://example.com/kad2020/Rotterdam\n",
      "http://example.com/kad2020/Amsterdam\n",
      "http://example.com/kad2020/Berlin\n"
     ]
    }
   ],
   "source": [
    "cities = set()\n",
    "\n",
    "# Your code here\n",
    "\n",
    "results = g.query(\"\"\"\n",
    "PREFIX ex: <http://example.com/kad2020/>\n",
    "SELECT DISTINCT ?city\n",
    "WHERE { \n",
    "    { \n",
    "        { ?country ex:hasCapital ?city. } \n",
    "        UNION\n",
    "        { ?country ex:has_Capital ?city }\n",
    "    }\n",
    "    UNION\n",
    "    {\n",
    "        ?country ex:containsCity ?city\n",
    "    }\n",
    "}\n",
    "\"\"\")\n",
    "\n",
    "for row in results:\n",
    "    cities.add(row[\"city\"])\n",
    "    \n",
    "for city in cities:\n",
    "    print(city)"
   ]
  },
  {
   "cell_type": "markdown",
   "metadata": {},
   "source": [
    "### 2. For each city, find from DBpedia its longitude & latitude, and its number of inhabitants (if available)\n",
    "\n",
    "Don't forget to adapt the namespace of the cities in your dataset when querying DBpedia, using the above function *transformToBDR(uri)*\n",
    "\n",
    "The empty graph g2 should only contain the triples extracted from DBpedia, but added to the URIs with the 'ex' namespace. \n",
    "An example of a triple in g2 is the following triple: \n",
    "       \n",
    "       ex:Amsterdam dbo:populationTotal \"842343\" ."
   ]
  },
  {
   "cell_type": "code",
   "execution_count": 14,
   "metadata": {},
   "outputs": [
    {
     "name": "stdout",
     "output_type": "stream",
     "text": [
      "http://dbpedia.org/resource/Rotterdam\n",
      "Some value is not found in DBpedia\n",
      "http://dbpedia.org/resource/Amsterdam\n",
      "http://dbpedia.org/resource/Berlin\n",
      "@prefix dbo: <http://dbpedia.org/ontology/> .\n",
      "@prefix ex: <http://example.com/kad2020/> .\n",
      "@prefix geo: <http://www.w3.org/2003/01/geo/wgs84_pos#> .\n",
      "\n",
      "ex:Amsterdam dbo:populationTotal \"842343\" ;\n",
      "    geo:lat \"52.3667\" ;\n",
      "    geo:long \"4.9\" .\n",
      "\n",
      "ex:Berlin dbo:populationTotal \"3610156\" ;\n",
      "    geo:lat \"52.5167\" ;\n",
      "    geo:long \"13.3833\" .\n",
      "\n",
      "ex:Rotterdam geo:lat \"51.9167\" ;\n",
      "    geo:long \"4.5\" .\n",
      "\n",
      "\n"
     ]
    }
   ],
   "source": [
    "g2 = Graph()\n",
    "\n",
    "# Your code here\n",
    "\n",
    "sparql = SPARQLWrapper(\"http://dbpedia.org/sparql\")\n",
    "\n",
    "DBO = Namespace('http://dbpedia.org/ontology/')\n",
    "GEO = Namespace('http://www.w3.org/2003/01/geo/wgs84_pos#')\n",
    "EX = Namespace('http://example.com/kad2020/')\n",
    "g2.bind('dbo', DBO)\n",
    "g2.bind('geo', GEO)\n",
    "g2.bind('ex', EX)\n",
    "\n",
    "for city in cities:\n",
    "    adapted_city = transformToDBR(city)\n",
    "    print(adapted_city)\n",
    "    \n",
    "    sparql.setQuery(\"\"\"\n",
    "    PREFIX dbo: <http://dbpedia.org/ontology/>\n",
    "    PREFIX geo: <http://www.w3.org/2003/01/geo/wgs84_pos#>\n",
    "    SELECT ?lat ?long ?pop\n",
    "    WHERE {\n",
    "            <\"\"\" + adapted_city + \"\"\"> geo:lat ?lat .\n",
    "            <\"\"\" + adapted_city + \"\"\"> geo:long ?long .\n",
    "            OPTIONAL {<\"\"\" + adapted_city + \"\"\"> dbo:populationTotal ?pop .} \n",
    "        }\n",
    "\"\"\")\n",
    "    sparql.setReturnFormat(JSON)\n",
    "    results = sparql.query().convert()\n",
    "    for result in results[\"results\"][\"bindings\"]:\n",
    "        try:\n",
    "            g2.add((city, GEO.lat, Literal(result[\"lat\"][\"value\"])))\n",
    "            g2.add((city, GEO.long, Literal(result[\"long\"][\"value\"])))\n",
    "            g2.add((city, DBO.populationTotal, Literal(result[\"pop\"][\"value\"])))\n",
    "        except:\n",
    "            # If DBPedia can't find the information:\n",
    "            print(\"Some value is not found in DBpedia\")\n",
    "        \n",
    "\n",
    "serialize(g2)"
   ]
  },
  {
   "cell_type": "markdown",
   "metadata": {},
   "source": [
    "### 3. Save your results\n",
    "\n",
    "- Merge the triples from example-from-slides.ttl with the information extracted from DBpedia\n",
    "- Save all these triples into a new file 'extended-example.ttl'\n",
    "- Print all triples in Turtle Syntax.\n"
   ]
  },
  {
   "cell_type": "code",
   "execution_count": 15,
   "metadata": {},
   "outputs": [
    {
     "name": "stdout",
     "output_type": "stream",
     "text": [
      "@prefix dbo: <http://dbpedia.org/ontology/> .\n",
      "@prefix ex: <http://example.com/kad2020/> .\n",
      "@prefix geo: <http://www.w3.org/2003/01/geo/wgs84_pos#> .\n",
      "@prefix rdfs: <http://www.w3.org/2000/01/rdf-schema#> .\n",
      "\n",
      "ex:Netherlands a ex:Country ;\n",
      "    ex:contains ex:Ijsselmeer ;\n",
      "    ex:containsCity ex:Rotterdam ;\n",
      "    ex:has_Capital ex:Amsterdam ;\n",
      "    ex:has_Name \"The Netherlands\" ;\n",
      "    ex:neighbours ex:Belgium .\n",
      "\n",
      "ex:hasCapital rdfs:range ex:Capital ;\n",
      "    rdfs:subPropertyOf ex:containsCity .\n",
      "\n",
      "ex:neighbours rdfs:subPropertyOf ex:closeBy .\n",
      "\n",
      "ex:Amsterdam a ex:Capital ;\n",
      "    dbo:populationTotal \"842343\" ;\n",
      "    ex:closeBy ex:Germany ;\n",
      "    geo:lat \"52.3667\" ;\n",
      "    geo:long \"4.9\" .\n",
      "\n",
      "ex:Belgium a ex:Country .\n",
      "\n",
      "ex:Berlin dbo:populationTotal \"3610156\" ;\n",
      "    geo:lat \"52.5167\" ;\n",
      "    geo:long \"13.3833\" .\n",
      "\n",
      "ex:EuropeanCountry rdfs:subClassOf ex:Country .\n",
      "\n",
      "ex:Germany a ex:EuropeanCountry ;\n",
      "    ex:hasCapital ex:Berlin .\n",
      "\n",
      "ex:Rotterdam geo:lat \"51.9167\" ;\n",
      "    geo:long \"4.5\" .\n",
      "\n",
      "ex:closeBy rdfs:domain ex:Location ;\n",
      "    rdfs:range ex:Location .\n",
      "\n",
      "ex:containsCity rdfs:domain ex:Country ;\n",
      "    rdfs:range ex:City ;\n",
      "    rdfs:subPropertyOf ex:contains .\n",
      "\n",
      "ex:Capital rdfs:subClassOf ex:City .\n",
      "\n",
      "ex:City rdfs:subClassOf ex:Location .\n",
      "\n",
      "ex:Country rdfs:subClassOf ex:Location .\n",
      "\n",
      "\n"
     ]
    }
   ],
   "source": [
    "# Your code here\n",
    "\n",
    "myNewGraph = g + g2\n",
    "serialize(myNewGraph)\n",
    "save(myNewGraph, 'extended-example.ttl')"
   ]
  },
  {
   "cell_type": "markdown",
   "metadata": {},
   "source": [
    "## Task 2: (2.5 points)  Implement Basic Inferencing Rules "
   ]
  },
  {
   "cell_type": "markdown",
   "metadata": {},
   "source": [
    "In the lecture we showed that the RDFS inference rules can be used to infer new knowledge. For example, infer class membership based on rdfs:domain or infer relationships between subjects and objects based on rdfs:subPropertyOf. \n",
    "\n",
    "Create rules (or 1 rule?!) to inference class membership based on the RDF Schema language features \n",
    "*\tFor example: infer that an instance belongs to a class because of domain and range restrictions\n",
    "*\tFor example: infer that an instance belongs to a (super)class because it also belongs to a subclass\n",
    "\n",
    "We implemented the rdfs2 rule. You should implement the 5 following remaining rules:  \n",
    "\n",
    "*     (rdfs2) If G contains the triples (aaa rdfs:domain xxx.) and (uuu aaa yyy.)  then infer the triple (uuu rdf:type xxx.)\n",
    "*     (rdfs3) If G contains the triples (aaa rdfs:range xxx.) and (uuu aaa vvv.) then infer the triple (vvv rdf:type xxx .)\n",
    "*     (rdfs5) If G contains the triples (uuu rdfs:subPropertyOf vvv.) and (vvv rdfs:subPropertyOf xxx.) then infer the triple\n",
    "(uuu rdfs:subPropertyOf xxx.) \n",
    "*     (rdfs7) If G contains the triples (aaa rdfs:subPropertyOf bbb.) and (uuu aaa yyy.) then infer the triple (uuu bbb yyy) \n",
    "*     (rdfs9) If G contains the triples (uuu rdfs:subClassOf xxx.) and (vvv rdf:type uuu.) then infer the triple\n",
    " (vvv rdf:type xxx.)   -> this one was not mentioned in the lecture, but is a very important one. \n",
    "*     (rdfs11) If G contains the triples (uuu rdfs:subClassOf vvv.) and (vvv rdfs:subClassOf xxx.) then infer the triple\n",
    "(uuu rdfs:subClassOf xxx.)\n",
    "\n",
    "\n",
    "Run your rule reasoner on your knowledge graph."
   ]
  },
  {
   "cell_type": "code",
   "execution_count": 16,
   "metadata": {},
   "outputs": [
    {
     "name": "stdout",
     "output_type": "stream",
     "text": [
      "(rdfs 5)  http://example.com/kad2020/hasCapital rdfs:subPropertyOf http://example.com/kad2020/contains\n",
      "(rdfs 7)  http://example.com/kad2020/Germany http://example.com/kad2020/containsCity http://example.com/kad2020/Berlin\n",
      "(rdfs 2)  http://example.com/kad2020/Netherlands rdf:type http://example.com/kad2020/Country\n",
      "(rdfs 2)  http://example.com/kad2020/Amsterdam rdf:type http://example.com/kad2020/Location\n",
      "(rdfs 3)  http://example.com/kad2020/Berlin rdf:type http://example.com/kad2020/Capital\n",
      "(rdfs 3)  http://example.com/kad2020/Germany rdf:type http://example.com/kad2020/Location\n",
      "(rdfs 9)  http://example.com/kad2020/Amsterdam rdf:type http://example.com/kad2020/City\n",
      "(rdfs 11)  http://example.com/kad2020/Capital rdfs:subClassOf http://example.com/kad2020/Location\n",
      "(rdfs 9)  http://example.com/kad2020/Belgium rdf:type http://example.com/kad2020/Location\n",
      "(rdfs 9)  http://example.com/kad2020/Netherlands rdf:type http://example.com/kad2020/Location\n",
      "(rdfs 9)  http://example.com/kad2020/Germany rdf:type http://example.com/kad2020/Country\n",
      "(rdfs 11)  http://example.com/kad2020/EuropeanCountry rdfs:subClassOf http://example.com/kad2020/Location\n",
      "(rdfs 7)  http://example.com/kad2020/Netherlands http://example.com/kad2020/closeBy http://example.com/kad2020/Belgium\n",
      "(rdfs 3)  http://example.com/kad2020/Rotterdam rdf:type http://example.com/kad2020/City\n",
      "(rdfs 7)  http://example.com/kad2020/Netherlands http://example.com/kad2020/contains http://example.com/kad2020/Rotterdam\n",
      "---------------------------------\n",
      "Number of inferred triples: 15\n",
      "---------------------------------\n"
     ]
    }
   ],
   "source": [
    "def myRDFSreasoner(myGraph):\n",
    "    inferredTriples = 0\n",
    "    for sbj, prd, obj in myGraph:\n",
    "\n",
    "        # --- rdfs2 ---\n",
    "        if (prd.eq(URIRef(\"http://www.w3.org/2000/01/rdf-schema#domain\"))):\n",
    "            generator = myGraph.subject_objects(URIRef(sbj))\n",
    "            for s,o in generator:\n",
    "                inferredTriples += 1\n",
    "                print(\"(rdfs 2) \", s, \"rdf:type\", obj)\n",
    "                \n",
    "                \n",
    "        # --- rdfs3 ---\n",
    "        if (prd.eq(URIRef(\"http://www.w3.org/2000/01/rdf-schema#range\"))):\n",
    "            generator = myGraph.subject_objects(URIRef(sbj))\n",
    "            for s, o in generator:\n",
    "                print(\"(rdfs 3) \", o, \"rdf:type\", obj)\n",
    "                inferredTriples += 1\n",
    "        \n",
    "        # --- rdfs5 ---\n",
    "        if (prd.eq(URIRef(\"http://www.w3.org/2000/01/rdf-schema#subPropertyOf\"))):\n",
    "            generator = myGraph.objects(obj, URIRef(\"http://www.w3.org/2000/01/rdf-schema#subPropertyOf\"))\n",
    "            for o in generator:\n",
    "                print(\"(rdfs 5) \", sbj, \"rdfs:subPropertyOf\", o)\n",
    "                inferredTriples += 1\n",
    "        \n",
    "        \n",
    "        # --- rdfs7 ---\n",
    "        if (prd.eq(URIRef(\"http://www.w3.org/2000/01/rdf-schema#subPropertyOf\"))):\n",
    "            generator = myGraph.subject_objects(sbj)\n",
    "            for s,o in generator:\n",
    "                print(\"(rdfs 7) \", s, obj, o)\n",
    "                inferredTriples += 1\n",
    "         \n",
    "        \n",
    "        # --- rdfs9 ---\n",
    "        if (prd.eq(URIRef(\"http://www.w3.org/2000/01/rdf-schema#subClassOf\"))):\n",
    "            generator = myGraph.subjects(URIRef(\"http://www.w3.org/1999/02/22-rdf-syntax-ns#type\"), sbj)\n",
    "            for s in generator:\n",
    "                print(\"(rdfs 9) \", s, \"rdf:type\", obj)\n",
    "                inferredTriples += 1\n",
    "        \n",
    "        # --- rdfs11 ---\n",
    "        if (prd.eq(URIRef(\"http://www.w3.org/2000/01/rdf-schema#subClassOf\"))):\n",
    "            generator = myGraph.objects(obj, URIRef(\"http://www.w3.org/2000/01/rdf-schema#subClassOf\"))\n",
    "            for o in generator:\n",
    "                print(\"(rdfs 11) \", sbj, \"rdfs:subClassOf\", o)\n",
    "                inferredTriples += 1\n",
    "        \n",
    "        \n",
    "    print(\"---------------------------------\")\n",
    "    print(\"Number of inferred triples:\", inferredTriples)\n",
    "    print(\"---------------------------------\")\n",
    "    \n",
    "myRDFSreasoner(g)"
   ]
  },
  {
   "cell_type": "markdown",
   "metadata": {},
   "source": [
    "## Task 3: (2.5 points) Build your very own RDFS knowledge graph. \n"
   ]
  },
  {
   "cell_type": "markdown",
   "metadata": {},
   "source": [
    "Define a small RDF Schema vocabulary in Turtle. You can choose your own domain (e.g. movies, geography, sports) respecting all the following rules:\n",
    "*\tThe schema should define at least 4 classes, 4 properties, and 4 instances.\n",
    "*   The properties should be used to relate the instances\n",
    "*\tThe instances should be a member of your classes\n",
    "*\tAll resources should have an rdfs:label in a suitable language.\n",
    "\n",
    "You should use (at least) the following language features of RDF and RDFS:\n",
    "* \trdf:type (or 'a')\n",
    "* \trdfs:subClassOf\n",
    "* \trdfs:subPropertyOf\n",
    "* \trdfs:domain and rdfs:range\n",
    "*\trdfs:label\n",
    "\n",
    "Be sure to define the 'rdf:' and 'rdfs:' namespace prefixes for RDF and RDF Schema in your file (perhaps have a look at http://prefix.cc)\n",
    "\n",
    "For creating your vocabulary, you can either use a text editor, or add the axioms directly (programatically) to your Knowledge Graph as you did last week. \n",
    "\n",
    "Play around with the inference rules you have created in the previous task to make sure that you some added some implicit knowledge, that becomes \"visible\" via inferencing (this will be useful for the next task). \n",
    "\n",
    "Finally:\n",
    "- Add the knowledge you created into the RDFLIB graph datastructure *myRDFSgraph*, \n",
    "- Print *myRDFSgraph* in Turtle so that we can check your \"design\"\n",
    "- Save *myRDFSgraph* into a new file 'myRDFSgraph.ttl'"
   ]
  },
  {
   "cell_type": "code",
   "execution_count": 17,
   "metadata": {},
   "outputs": [
    {
     "name": "stdout",
     "output_type": "stream",
     "text": [
      "@prefix ex: <http://example.com/kad2020/> .\n",
      "@prefix rdfs: <http://www.w3.org/2000/01/rdf-schema#> .\n",
      "\n",
      "ex:League a rdfs:Class .\n",
      "\n",
      "ex:Person a rdfs:Class .\n",
      "\n",
      "ex:Team a rdfs:Class .\n",
      "\n",
      "ex:Lionel_Messi rdfs:label \"Lionel Messi\" ;\n",
      "    ex:playsInTeam ex:Barcelona .\n",
      "\n",
      "ex:inLeague rdfs:label \"league in which a team competes in\" ;\n",
      "    rdfs:domain ex:Team ;\n",
      "    rdfs:range ex:League .\n",
      "\n",
      "ex:playsInTeam rdfs:label \"team in which a footballer plays in\" ;\n",
      "    rdfs:domain ex:Footballer ;\n",
      "    rdfs:range ex:Team .\n",
      "\n",
      "ex:Barcelona rdfs:label \"Barcelona\" ;\n",
      "    ex:inLeague ex:La_Liga .\n",
      "\n",
      "ex:Footballer rdfs:subClassOf ex:Person .\n",
      "\n",
      "ex:La_Liga rdfs:label \"La Liga\" .\n",
      "\n",
      "\n",
      "Now let's check what we can infer from your knowledge graph...\n",
      "The more rules you cover, the better!\n",
      "(rdfs 2)  http://example.com/kad2020/Lionel_Messi rdf:type http://example.com/kad2020/Footballer\n",
      "(rdfs 2)  http://example.com/kad2020/Barcelona rdf:type http://example.com/kad2020/Team\n",
      "(rdfs 3)  http://example.com/kad2020/La_Liga rdf:type http://example.com/kad2020/League\n",
      "(rdfs 3)  http://example.com/kad2020/Barcelona rdf:type http://example.com/kad2020/Team\n",
      "---------------------------------\n",
      "Number of inferred triples: 4\n",
      "---------------------------------\n"
     ]
    }
   ],
   "source": [
    "myRDFSgraph = Graph()\n",
    "\n",
    "# Your code here.\n",
    "\n",
    "from rdflib.namespace import RDF, RDFS\n",
    "\n",
    "\n",
    "EX = Namespace('http://example.com/kad2020/')\n",
    "myRDFSgraph.bind('ex',EX)\n",
    "\n",
    "#Class 1-4\n",
    "myRDFSgraph.add((EX.Person, RDF.type, RDFS.Class)) #rdf:type\n",
    "myRDFSgraph.add((EX.League, RDF.type, RDFS.Class)) #rdf:type\n",
    "myRDFSgraph.add((EX.Team, RDF.type, RDFS.Class)) #rdf:type\n",
    "myRDFSgraph.add((EX.Footballer, RDFS.subClassOf, EX.Person)) #rdfs:subClassOf\n",
    "\n",
    "#Property 1\n",
    "myRDFSgraph.add((EX.playsInTeam, RDFS.domain, EX.Footballer)) #rdfs:domain\n",
    "myRDFSgraph.add((EX.playsInTeam, RDFS.range, EX.Team)) #rdfs:range\n",
    "myRDFSgraph.add((EX.playsInTeam, RDFS.label, Literal(\"team in which a footballer plays in\"))) #rdfs:label\n",
    "\n",
    "myRDFSgraph.add((EX.inLeague, RDFS.domain, EX.Team)) #rdfs:domain\n",
    "myRDFSgraph.add((EX.inLeague, RDFS.range, EX.League)) #rdfs:range\n",
    "myRDFSgraph.add((EX.inLeague, RDFS.label, Literal(\"league in which a team competes in\"))) #rdfs:label\n",
    "\n",
    "#Instance 1-3\n",
    "myRDFSgraph.add((EX.Lionel_Messi, EX.playsInTeam, EX.Barcelona)) #rdf:type\n",
    "myRDFSgraph.add((EX.Barcelona, EX.inLeague, EX.La_Liga))\n",
    "myRDFSgraph.add((EX.Lionel_Messi, RDFS.label, Literal(\"Lionel Messi\")))\n",
    "myRDFSgraph.add((EX.Barcelona, RDFS.label, Literal(\"Barcelona\")))\n",
    "myRDFSgraph.add((EX.La_Liga, RDFS.label, Literal(\"La Liga\")))\n",
    "\n",
    "\n",
    "print(myRDFSgraph.serialize(format='turtle').decode(\"utf-8\"))\n",
    "myRDFSgraph.serialize(destination='myRDFSgraph.ttl', format = 'turtle' )\n",
    "\n",
    "\n",
    "print(\"Now let's check what we can infer from your knowledge graph...\")\n",
    "print(\"The more rules you cover, the better!\")\n",
    "myRDFSreasoner(myRDFSgraph)"
   ]
  },
  {
   "cell_type": "markdown",
   "metadata": {},
   "source": [
    "## Task 4 (2 points) Compare local inferences with GraphDB results"
   ]
  },
  {
   "cell_type": "markdown",
   "metadata": {},
   "source": [
    "Upload *myRDFSgraph.ttl* to GraphDB (check [the GraphDB tutorial](https://github.com/raadjoe/knowledge-data-vu/blob/master/Tutorials/Preliminaries/tutorial-GraphDB.md) before starting to work with GraphDB).\n",
    "\n",
    "Formulate two different SPARQL queries, and write a Python code that executes these queries over your GraphDB SPARQL endpoint (check example of Task 1).\n",
    "\n",
    "**Each SPARQL query should return a different type of inferred knowledge** (at least one triple that was not explicitly asserted in the graph).\n",
    "\n",
    "Specify below next to your query, which type of RDFS rule is the GraphDB reasoner using to infer this answer (rdfs2, rdfs3, rdfs5, rdfs7, rdfs9, rdfs11). "
   ]
  },
  {
   "cell_type": "code",
   "execution_count": 10,
   "metadata": {},
   "outputs": [],
   "source": [
    "# Get your GraphDB repository URL and assign it to the variable 'myEndpoint' below. \n",
    "# It should be similar (but not the same) to this: \n",
    "\n",
    "myEndpoint = \"http://145.108.229.246:7200/repositories/assignment-3\"\n",
    "sparql = SPARQLWrapper(myEndpoint)"
   ]
  },
  {
   "cell_type": "code",
   "execution_count": 11,
   "metadata": {},
   "outputs": [],
   "source": [
    "# Query 1 - Specify which RDFS rule are you testing: \n",
    "\n",
    "# Check example of Task 1 on how to query remote SPARQL endpoints\n",
    "\n",
    "sparql.setQuery(\"\"\"\n",
    "\n",
    "\"\"\")"
   ]
  },
  {
   "cell_type": "code",
   "execution_count": null,
   "metadata": {},
   "outputs": [],
   "source": [
    "# Query 2 - Specify which RDFS rule are you testing: \n",
    "\n",
    "# Check example of Task 1 on how to query remote SPARQL endpoints\n",
    "\n",
    "sparql.setQuery(\"\"\"\n",
    "\n",
    "\"\"\")"
   ]
  }
 ],
 "metadata": {
  "kernelspec": {
   "display_name": "Python 3",
   "language": "python",
   "name": "python3"
  },
  "language_info": {
   "codemirror_mode": {
    "name": "ipython",
    "version": 3
   },
   "file_extension": ".py",
   "mimetype": "text/x-python",
   "name": "python",
   "nbconvert_exporter": "python",
   "pygments_lexer": "ipython3",
   "version": "3.7.6"
  }
 },
 "nbformat": 4,
 "nbformat_minor": 4
}
